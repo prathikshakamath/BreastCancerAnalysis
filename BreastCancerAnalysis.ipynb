{
 "cells": [
  {
   "cell_type": "code",
   "execution_count": 57,
   "id": "5093df19",
   "metadata": {},
   "outputs": [
    {
     "name": "stdout",
     "output_type": "stream",
     "text": [
      "Requirement already satisfied: pymongo in c:\\users\\prathiksha\\anaconda3\\lib\\site-packages (4.3.3)\n",
      "Requirement already satisfied: dnspython<3.0.0,>=1.16.0 in c:\\users\\prathiksha\\anaconda3\\lib\\site-packages (from pymongo) (2.2.1)\n"
     ]
    }
   ],
   "source": [
    "!pip install pymongo\n"
   ]
  },
  {
   "cell_type": "code",
   "execution_count": 58,
   "id": "3e0cfd8d",
   "metadata": {},
   "outputs": [],
   "source": [
    "import pymongo\n",
    "\n",
    "from pymongo import MongoClient"
   ]
  },
  {
   "cell_type": "code",
   "execution_count": 59,
   "id": "eed93abe",
   "metadata": {},
   "outputs": [
    {
     "data": {
      "text/plain": [
       "['admin', 'breastCancerAnalysis', 'config', 'employee', 'local']"
      ]
     },
     "execution_count": 59,
     "metadata": {},
     "output_type": "execute_result"
    }
   ],
   "source": [
    "client = MongoClient(\"localhost\", 27017)\n",
    "client.list_database_names()"
   ]
  },
  {
   "cell_type": "code",
   "execution_count": 60,
   "id": "0b4dd5ea",
   "metadata": {},
   "outputs": [],
   "source": [
    "db = client[\"breastCancerAnalysis\"]\n",
    "wisconsinDataset = db[\"wisconsinDataset\"]"
   ]
  },
  {
   "cell_type": "code",
   "execution_count": 61,
   "id": "e6f4d7f3",
   "metadata": {},
   "outputs": [
    {
     "data": {
      "text/plain": [
       "569"
      ]
     },
     "execution_count": 61,
     "metadata": {},
     "output_type": "execute_result"
    }
   ],
   "source": [
    "db.list_collection_names()\n",
    "wisconsinDataset.count_documents({})"
   ]
  },
  {
   "cell_type": "markdown",
   "id": "0f060465",
   "metadata": {},
   "source": [
    " db.wisconsinDataset.aggregate([\n",
    "                                { $group: { _id: \"$diagnosis\", count: { $count: { } }}},\n",
    "                                { $out: \"diagnosis\"}\n",
    "]);\n",
    "                              "
   ]
  },
  {
   "cell_type": "code",
   "execution_count": 63,
   "id": "9a48bba3",
   "metadata": {
    "scrolled": true
   },
   "outputs": [
    {
     "data": {
      "text/plain": [
       "<pymongo.command_cursor.CommandCursor at 0x26374a6efd0>"
      ]
     },
     "execution_count": 63,
     "metadata": {},
     "output_type": "execute_result"
    }
   ],
   "source": [
    "wisconsinDataset.aggregate(\n",
    "    [{\n",
    "    \"$group\" : \n",
    "        {\"_id\" : \"$diagnosis\", \n",
    "         \"count\" : {\"$count\" : {}}}},\n",
    "    {\"$out\": \"diagnosis\"}\n",
    "         \n",
    "    ])"
   ]
  },
  {
   "cell_type": "code",
   "execution_count": 64,
   "id": "fe98546c",
   "metadata": {},
   "outputs": [],
   "source": [
    "FIELDS = {'_id': True, 'count':True}\n",
    "collection = db[\"diagnosis\"]\n",
    "dia = collection.find(projection=FIELDS)\n",
    "dia = list(dia)"
   ]
  },
  {
   "cell_type": "code",
   "execution_count": 65,
   "id": "811b0247",
   "metadata": {},
   "outputs": [],
   "source": [
    "import pandas as pd\n",
    "\n",
    "diagnosis_df = pd.DataFrame(dia)\n",
    "diagnosis_df.columns = ['diagnosis', 'count']"
   ]
  },
  {
   "cell_type": "code",
   "execution_count": 67,
   "id": "c0f0ce3c",
   "metadata": {},
   "outputs": [
    {
     "data": {
      "text/plain": [
       "Text(0.5, 1.0, 'Count of diagnosis')"
      ]
     },
     "execution_count": 67,
     "metadata": {},
     "output_type": "execute_result"
    },
    {
     "data": {
      "image/png": "[encoded data removed]",
      "text/plain": [
       "<Figure size 432x288 with 1 Axes>"
      ]
     },
     "metadata": {},
     "output_type": "display_data"
    }
   ],
   "source": [
    "import seaborn as sns\n",
    "import matplotlib.pyplot as plt\n",
    "\n",
    "sns.set(style=\"whitegrid\")\n",
    "\n",
    "ax = sns.barplot(x=\"diagnosis\", y=\"count\", data=diagnosis_df)\n",
    "ax.set_xticklabels(ax.get_xticklabels(), ha = 'left')\n",
    "plt.title(\"Count of diagnosis\")\n"
   ]
  },
  {
   "cell_type": "code",
   "execution_count": 78,
   "id": "43d26901",
   "metadata": {},
   "outputs": [
    {
     "data": {
      "text/plain": [
       "<pymongo.command_cursor.CommandCursor at 0x26378acbca0>"
      ]
     },
     "execution_count": 78,
     "metadata": {},
     "output_type": "execute_result"
    }
   ],
   "source": [
    "wisconsinDataset.aggregate(\n",
    "    [{\n",
    "    \"$group\" : \n",
    "        {\"_id\" : \"$diagnosis\", \n",
    "         \"average\" : {\"$avg\" : \"$radius_mean\"}\n",
    "  \n",
    "    }\n",
    "    },\n",
    "        {\"$out\": \"averageRadius\"}\n",
    "    ])"
   ]
  },
  {
   "cell_type": "code",
   "execution_count": 81,
   "id": "e4be0bf5",
   "metadata": {},
   "outputs": [
    {
     "data": {
      "text/plain": [
       "Text(0.5, 1.0, 'Radius Mean')"
      ]
     },
     "execution_count": 81,
     "metadata": {},
     "output_type": "execute_result"
    },
    {
     "data": {
      "image/png": "[encoded data removed]",
      "text/plain": [
       "<Figure size 432x288 with 1 Axes>"
      ]
     },
     "metadata": {},
     "output_type": "display_data"
    }
   ],
   "source": [
    "FIELDS = {'_id': True, 'average':True}\n",
    "collection = db[\"averageRadius\"]\n",
    "aR = collection.find(projection=FIELDS)\n",
    "aR = list(aR)\n",
    "\n",
    "aR_df = pd.DataFrame(aR)\n",
    "aR_df.columns = ['diagnosis', 'average']\n",
    "\n",
    "ax = sns.barplot(x=\"diagnosis\", y=\"average\", data=aR_df)\n",
    "ax.set_xticklabels(ax.get_xticklabels(), ha = 'left')\n",
    "plt.title(\"Radius Mean\")"
   ]
  },
  {
   "cell_type": "code",
   "execution_count": null,
   "id": "063277f0",
   "metadata": {},
   "outputs": [],
   "source": []
  }
 ],
 "metadata": {
  "kernelspec": {
   "display_name": "Python 3 (ipykernel)",
   "language": "python",
   "name": "python3"
  },
  "language_info": {
   "codemirror_mode": {
    "name": "ipython",
    "version": 3
   },
   "file_extension": ".py",
   "mimetype": "text/x-python",
   "name": "python",
   "nbconvert_exporter": "python",
   "pygments_lexer": "ipython3",
   "version": "3.9.7"
  }
 },
 "nbformat": 4,
 "nbformat_minor": 5
}
